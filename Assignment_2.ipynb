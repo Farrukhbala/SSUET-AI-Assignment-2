{
 "cells": [
  {
   "cell_type": "markdown",
   "metadata": {},
   "source": [
    "<h3>Q no 1:  Write a python program to find number of occurrences of given number in a list with out using built-in methods</h3>\n",
    "<h4>**1 generate a list of some random num which is repeated again and again</h4>\n",
    "<h4>**2 take user input any number</h4>\n",
    "<h4>**3 find the number of occurrences of that num in your list</h4>\n",
    "<h4>**4 print some message to user with that result</h4>"
   ]
  },
  {
   "cell_type": "code",
   "execution_count": 15,
   "metadata": {},
   "outputs": [],
   "source": [
    "random_numbers = []\n",
    "for x in range(101):\n",
    "    random_numbers.append(random.randint(1,101))"
   ]
  },
  {
   "cell_type": "code",
   "execution_count": 31,
   "metadata": {},
   "outputs": [
    {
     "name": "stdout",
     "output_type": "stream",
     "text": [
      "Enter any number between 1 to 10065\n",
      "65\n",
      "Database\n",
      "[84, 79, 91, 48, 35, 60, 81, 38, 14, 60, 80, 20, 68, 78, 21, 71, 99, 60, 8, 18, 101, 25, 33, 7, 4, 51, 76, 20, 23, 60, 57, 2, 21, 101, 32, 13, 80, 68, 93, 43, 25, 25, 91, 58, 20, 98, 95, 72, 59, 57, 31, 41, 40, 43, 64, 76, 47, 5, 80, 17, 25, 58, 49, 59, 98, 47, 22, 45, 100, 37, 5, 69, 43, 95, 16, 68, 43, 26, 77, 34, 42, 44, 19, 46, 69, 11, 101, 12, 53, 99, 73, 52, 82, 94, 10, 36, 100, 26, 7, 42, 95]\n",
      "Number of Occurrences of that number in my data is 0\n"
     ]
    }
   ],
   "source": [
    "user_input = print(int(input(\"Enter any number between 1 to 100\")))\n",
    "print(\"Database\\n\" + str(random_numbers))\n",
    "print(\"Number of Occurrences of that number in my data is \" + str(random_numbers.count(user_input)))"
   ]
  },
  {
   "cell_type": "markdown",
   "metadata": {},
   "source": [
    "<h3>Q no 2:   [\"www.zframez.com\", \"www.wikipedia.org\", \"www.asp.net\", \"www.abcd.in\"]\n",
    "<br/><br/><br/><br/><br/>\n",
    "Write a python program to print website suffixes (com , org , net ,in) from this list\n",
    "</h3>"
   ]
  },
  {
   "cell_type": "code",
   "execution_count": 33,
   "metadata": {},
   "outputs": [],
   "source": [
    "websites = [\"www.zframez.com\", \"www.wikipedia.org\", \"www.asp.net\", \"www.abcd.in\"]"
   ]
  },
  {
   "cell_type": "code",
   "execution_count": 45,
   "metadata": {},
   "outputs": [
    {
     "name": "stdout",
     "output_type": "stream",
     "text": [
      "['com', 'org', 'net', 'in']\n"
     ]
    }
   ],
   "source": [
    "website_suffixes = [i.split('.')[-1] for i in websites]\n",
    "print(website_suffixes)"
   ]
  },
  {
   "cell_type": "markdown",
   "metadata": {},
   "source": [
    "<h3> Q no 3 : Write a program which can compute the factorial of a given numbers.</h3>\n",
    "<br/>\n",
    "<br/>\n",
    "<h4>**1 first take user input any number</h4>\n",
    "<h4>**2 calculate factorial of that input and then print the result to user</h4>"
   ]
  },
  {
   "cell_type": "code",
   "execution_count": 70,
   "metadata": {},
   "outputs": [
    {
     "name": "stdout",
     "output_type": "stream",
     "text": [
      "Enter any number to find its factorial: -7\n",
      "Negative number's factorial does not exist. Please insert positive integer \n",
      "Enter any number to find its factorial: 34\n",
      "Factorial of 34 is 295232799039604140847618609643520000000\n"
     ]
    }
   ],
   "source": [
    "User_Input = int(input(\"Enter any number to find its factorial: \"))"
   ]
  },
  {
   "cell_type": "code",
   "execution_count": 72,
   "metadata": {},
   "outputs": [],
   "source": [
    "factorial = 1"
   ]
  },
  {
   "cell_type": "code",
   "execution_count": 71,
   "metadata": {},
   "outputs": [],
   "source": [
    "if User_Input < 0:\n",
    "    print(\"Negative number's factorial does not exist. Please insert positive integer \")\n",
    "    User_Input = int(input(\"Enter any number to find its factorial: \"))"
   ]
  },
  {
   "cell_type": "code",
   "execution_count": 73,
   "metadata": {},
   "outputs": [
    {
     "name": "stdout",
     "output_type": "stream",
     "text": [
      "Factorial of 34 is 295232799039604140847618609643520000000\n"
     ]
    }
   ],
   "source": [
    "for i in range(1, User_Input +1 ):\n",
    "    factorial *= i\n",
    "        \n",
    "print(\"Factorial of \" + str(User_Input) + \" is \" + str(factorial))"
   ]
  },
  {
   "cell_type": "markdown",
   "metadata": {},
   "source": [
    "<h3>Q 4 (a) :  If you could invite anyone, living or deceased, to dinner, who\n",
    "would you invite? Make a list that includes at least three people you’d like to\n",
    "invite to dinner. Then use your list to print a message to each person, inviting\n",
    "them to dinner.</h3>"
   ]
  },
  {
   "cell_type": "code",
   "execution_count": 115,
   "metadata": {},
   "outputs": [],
   "source": [
    "Invited = ['farrukh', 'Ahmed', 'Usman', 'Sufyan', 'Hadeeb' ]"
   ]
  },
  {
   "cell_type": "code",
   "execution_count": 116,
   "metadata": {},
   "outputs": [
    {
     "name": "stdout",
     "output_type": "stream",
     "text": [
      "farrukh You are invited to dinner\n",
      "Ahmed You are invited to dinner\n",
      "Usman You are invited to dinner\n",
      "Sufyan You are invited to dinner\n",
      "Hadeeb You are invited to dinner\n"
     ]
    }
   ],
   "source": [
    "for i in Invited:\n",
    "    print(i + \" You are invited to dinner\" )"
   ]
  },
  {
   "cell_type": "code",
   "execution_count": null,
   "metadata": {},
   "outputs": [],
   "source": []
  },
  {
   "cell_type": "markdown",
   "metadata": {},
   "source": [
    "<h3>Q 4 (b) : You just heard that one of your guests can’t make the\n",
    "dinner, so you need to send out a new set of invitations. You’ll have to think of\n",
    "someone else to invite.<br/></br><br/>\n",
    "•\t Start with your program from Q 4 (a). Add a print statement at the\n",
    "end of your program stating the name of the guest who can’t make it.<br/></br><br/>\n",
    "•\t Modify your list, replacing the name of the guest who can’t make it with\n",
    "the name of the new person you are inviting.<br/></br><br/>\n",
    "•\t Print a second set of invitation messages, one for each person who is still\n",
    "in your list.<br/></br><br/></h3>"
   ]
  },
  {
   "cell_type": "code",
   "execution_count": 117,
   "metadata": {},
   "outputs": [
    {
     "name": "stdout",
     "output_type": "stream",
     "text": [
      "Hey Everyone! Sufyan is not coming to dinner\n",
      "Hey Everyone! Sufyan is not coming to dinner\n",
      "Hey Everyone! Sufyan is not coming to dinner\n",
      "It's Ok Sufyan better Luck Next time\n",
      "Hey Everyone! Sufyan is not coming to dinner\n"
     ]
    }
   ],
   "source": [
    "for i in Invited:\n",
    "    if i == \"Sufyan\":\n",
    "        print(\"It's Ok Sufyan better Luck Next time\")\n",
    "    else:    \n",
    "        print(\"Hey Everyone! Sufyan is not coming to dinner\" )"
   ]
  },
  {
   "cell_type": "code",
   "execution_count": 118,
   "metadata": {},
   "outputs": [],
   "source": [
    "Invited.remove(\"Sufyan\")\n",
    "Invited.append(\"Imran\")"
   ]
  },
  {
   "cell_type": "code",
   "execution_count": 119,
   "metadata": {},
   "outputs": [
    {
     "name": "stdout",
     "output_type": "stream",
     "text": [
      "farrukh You are invited to dinner\n",
      "Ahmed You are invited to dinner\n",
      "Usman You are invited to dinner\n",
      "Hadeeb You are invited to dinner\n",
      "Imran You are invited to dinner\n"
     ]
    }
   ],
   "source": [
    "for i in Invited:\n",
    "    print(i + \" You are invited to dinner\" )"
   ]
  },
  {
   "cell_type": "markdown",
   "metadata": {},
   "source": [
    "<h3>Q 4 (c) : You just found a bigger dinner table, so now more space is\n",
    "available. Think of three more guests to invite to dinner.<br/></br><br/>\n",
    "•\t Start with your program from Q 4 (a) and (b) Add a print\n",
    "statement to the end of your program informing people that you found a\n",
    "bigger dinner table.<br/></br><br/>\n",
    "•\t Use insert() to add one new guest to the beginning of your list.<br/></br><br/>\n",
    "•\t Use insert() to add one new guest to the middle of your list.<br/></br><br/>\n",
    "•\t Use append() to add one new guest to the end of your list.<br/></br><br/>\n",
    "•\t Print a new set of invitation messages, one for each person in your list.<br/></br><br/></h3>"
   ]
  },
  {
   "cell_type": "code",
   "execution_count": 120,
   "metadata": {},
   "outputs": [
    {
     "name": "stdout",
     "output_type": "stream",
     "text": [
      "farrukh Hey Everyone! We are having a bigger dinning table so I am going to invite 3 more friends.\n",
      "Ahmed Hey Everyone! We are having a bigger dinning table so I am going to invite 3 more friends.\n",
      "Usman Hey Everyone! We are having a bigger dinning table so I am going to invite 3 more friends.\n",
      "Hadeeb Hey Everyone! We are having a bigger dinning table so I am going to invite 3 more friends.\n",
      "Imran Hey Everyone! We are having a bigger dinning table so I am going to invite 3 more friends.\n"
     ]
    }
   ],
   "source": [
    "for i in Invited:\n",
    "    print(i + \" Hey Everyone! We are having a bigger dinning table so I am going to invite 3 more friends.\")\n"
   ]
  },
  {
   "cell_type": "code",
   "execution_count": 121,
   "metadata": {},
   "outputs": [],
   "source": [
    "Invited.insert(0,\"Jibran\")\n",
    "Invited.insert(1,\"Kamran\")\n",
    "Invited.append(\"Thor\")"
   ]
  },
  {
   "cell_type": "code",
   "execution_count": 122,
   "metadata": {},
   "outputs": [
    {
     "name": "stdout",
     "output_type": "stream",
     "text": [
      " You All are invited to dinner\n",
      " You All are invited to dinner\n",
      " You All are invited to dinner\n",
      " You All are invited to dinner\n",
      " You All are invited to dinner\n",
      " You All are invited to dinner\n",
      " You All are invited to dinner\n",
      " You All are invited to dinner\n"
     ]
    }
   ],
   "source": [
    "for i in Invited:\n",
    "    print(\" You All are invited to dinner\" )"
   ]
  },
  {
   "cell_type": "markdown",
   "metadata": {},
   "source": [
    "<h5> Q 5 : Here you have some data in variable below, your task is to make a list of specific word Surah then print the list and length of list</h5>\n"
   ]
  },
  {
   "cell_type": "code",
   "execution_count": 152,
   "metadata": {},
   "outputs": [],
   "source": [
    "data = \"Sura I Who believe in the Unseen, Sura Are steadfast in prayer, And spend Sura out of what We Have provided for them;\"\n",
    "Surah = []\n",
    "for i in data:\n",
    "    new_data = data.split(\" \")\n",
    "for i in new_data:\n",
    "    if i == \"Sura\":\n",
    "        Surah.append(i)"
   ]
  },
  {
   "cell_type": "code",
   "execution_count": 156,
   "metadata": {},
   "outputs": [
    {
     "data": {
      "text/plain": [
       "3"
      ]
     },
     "execution_count": 156,
     "metadata": {},
     "output_type": "execute_result"
    }
   ],
   "source": [
    "len(Surah)"
   ]
  },
  {
   "cell_type": "code",
   "execution_count": null,
   "metadata": {},
   "outputs": [],
   "source": []
  }
 ],
 "metadata": {
  "kernelspec": {
   "display_name": "Python 3",
   "language": "python",
   "name": "python3"
  },
  "language_info": {
   "codemirror_mode": {
    "name": "ipython",
    "version": 3
   },
   "file_extension": ".py",
   "mimetype": "text/x-python",
   "name": "python",
   "nbconvert_exporter": "python",
   "pygments_lexer": "ipython3",
   "version": "3.6.4"
  }
 },
 "nbformat": 4,
 "nbformat_minor": 2
}
